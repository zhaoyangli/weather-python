{
 "cells": [
  {
   "cell_type": "markdown",
   "metadata": {},
   "source": [
    "Import library"
   ]
  },
  {
   "cell_type": "code",
   "execution_count": 36,
   "metadata": {},
   "outputs": [],
   "source": [
    "import numpy as np\n",
    "import matplotlib\n",
    "import matplotlib.pyplot as plt\n",
    "import sklearn\n",
    "import sklearn.model_selection\n",
    "import sklearn.linear_model\n",
    "import sklearn.metrics\n",
    "import pandas as pd"
   ]
  },
  {
   "cell_type": "code",
   "execution_count": 38,
   "metadata": {},
   "outputs": [
    {
     "name": "stdout",
     "output_type": "stream",
     "text": [
      "Split dataset to size: 1353 452\n"
     ]
    }
   ],
   "source": [
    "def loadData(file_name):\n",
    "    with open(f\"../data/{file_name}\") as file:\n",
    "        data=pd.read_csv(file)\n",
    "        return data.to_numpy()\n",
    "    \n",
    "# load and split data\n",
    "dataset= loadData(\"augmented_data.csv\")\n",
    "y=dataset[:,1:3]\n",
    "X=dataset[:,3:]\n",
    "X_train,X_test,y_train,y_test=sklearn.model_selection.train_test_split(X,y,random_state=0)\n",
    "print(\"Split dataset to size:\",len(X_train),len(X_test))\n",
    "\n",
    "\n"
   ]
  },
  {
   "cell_type": "code",
   "execution_count": 59,
   "metadata": {},
   "outputs": [
    {
     "name": "stdout",
     "output_type": "stream",
     "text": [
      "logistic regression training accuracy: 63.27%\n",
      "logistic regression testing accuracy: 56.19%\n"
     ]
    }
   ],
   "source": [
    "logistic_regression=sklearn.linear_model.LogisticRegression(max_iter=10000,fit_intercept=False,penalty='none')\n",
    "logistic_regression.fit(X_train,y_train[:,1])\n",
    "print(f\"logistic regression training accuracy: {(logistic_regression.score(X_train,y_train[:,1])*100):.2f}%\")\n",
    "print(f\"logistic regression testing accuracy: {(logistic_regression.score(X_test,y_test[:,1])*100):.2f}%\")"
   ]
  },
  {
   "cell_type": "code",
   "execution_count": 69,
   "metadata": {},
   "outputs": [
    {
     "name": "stdout",
     "output_type": "stream",
     "text": [
      "39.65605401353791\n",
      "43.960962793511854\n",
      "linear regression training score: 0.06\n",
      "linear regression testing score: -0.00\n"
     ]
    }
   ],
   "source": [
    "linear_regression=sklearn.linear_model.LinearRegression()\n",
    "linear_regression.fit(X_train,y_train[:,0])\n",
    "print(sklearn.metrics.mean_squared_error(linear_regression.predict(X_train),y_train[:,0]))\n",
    "print(sklearn.metrics.mean_squared_error(linear_regression.predict(X_test),y_test[:,0]))\n",
    "print(f\"linear regression training score: {(linear_regression.score(X_train,y_train[:,0])):.2f}\")\n",
    "print(f\"linear regression testing score: {(linear_regression.score(X_test,y_test[:,0])):.2f}\")\n",
    "\n",
    "\n",
    "\n"
   ]
  }
 ],
 "metadata": {
  "kernelspec": {
   "display_name": "Python 3 (ipykernel)",
   "language": "python",
   "name": "python3"
  },
  "language_info": {
   "codemirror_mode": {
    "name": "ipython",
    "version": 3
   },
   "file_extension": ".py",
   "mimetype": "text/x-python",
   "name": "python",
   "nbconvert_exporter": "python",
   "pygments_lexer": "ipython3",
   "version": "3.9.15"
  },
  "vscode": {
   "interpreter": {
    "hash": "9898b4e5353a608fa11a934b698531b44a5bf37c9088dae4d51e47d00838f50a"
   }
  }
 },
 "nbformat": 4,
 "nbformat_minor": 2
}
