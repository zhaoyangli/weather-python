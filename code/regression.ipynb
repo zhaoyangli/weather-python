{
 "cells": [
  {
   "attachments": {},
   "cell_type": "markdown",
   "metadata": {},
   "source": [
    "Import library"
   ]
  },
  {
   "cell_type": "code",
   "execution_count": 27,
   "metadata": {},
   "outputs": [],
   "source": [
    "import numpy as np\n",
    "import matplotlib\n",
    "import matplotlib.pyplot as plt\n",
    "import sklearn\n",
    "import sklearn.model_selection\n",
    "import pandas as pd"
   ]
  },
  {
   "cell_type": "code",
   "execution_count": 35,
   "metadata": {},
   "outputs": [
    {
     "name": "stdout",
     "output_type": "stream",
     "text": [
      "Split dataset to size: 1353 452\n"
     ]
    }
   ],
   "source": [
    "def loadData(file_name):\n",
    "    with open(f\"../data/{file_name}\") as file:\n",
    "        data=pd.read_csv(file)\n",
    "        return data.to_numpy()\n",
    "    \n",
    "\n",
    "dataset= loadData(\"augmented_data.csv\")\n",
    "y=dataset[:,1:3]\n",
    "X=dataset[:,3:]\n",
    "X_train,X_test,y_train,y_train=sklearn.model_selection.train_test_split(X,y,random_state=0)\n",
    "print(\"Split dataset to size:\",len(X_train),len(X_test))\n",
    "\n",
    "\n"
   ]
  }
 ],
 "metadata": {
  "kernelspec": {
   "display_name": "base",
   "language": "python",
   "name": "python3"
  },
  "language_info": {
   "codemirror_mode": {
    "name": "ipython",
    "version": 3
   },
   "file_extension": ".py",
   "mimetype": "text/x-python",
   "name": "python",
   "nbconvert_exporter": "python",
   "pygments_lexer": "ipython3",
   "version": "3.8.8"
  },
  "orig_nbformat": 4,
  "vscode": {
   "interpreter": {
    "hash": "9898b4e5353a608fa11a934b698531b44a5bf37c9088dae4d51e47d00838f50a"
   }
  }
 },
 "nbformat": 4,
 "nbformat_minor": 2
}
