{
 "cells": [
  {
   "attachments": {},
   "cell_type": "markdown",
   "metadata": {},
   "source": [
    "Import library"
   ]
  },
  {
   "cell_type": "code",
   "execution_count": 36,
   "metadata": {},
   "outputs": [],
   "source": [
    "import numpy as np\n",
    "import matplotlib\n",
    "import matplotlib.pyplot as plt\n",
    "import sklearn\n",
    "import sklearn.model_selection\n",
    "import sklearn.linear_model\n",
    "import pandas as pd"
   ]
  },
  {
   "cell_type": "code",
   "execution_count": 38,
   "metadata": {},
   "outputs": [
    {
     "name": "stdout",
     "output_type": "stream",
     "text": [
      "Split dataset to size: 1353 452\n"
     ]
    }
   ],
   "source": [
    "def loadData(file_name):\n",
    "    with open(f\"../data/{file_name}\") as file:\n",
    "        data=pd.read_csv(file)\n",
    "        return data.to_numpy()\n",
    "    \n",
    "# load and split data\n",
    "dataset= loadData(\"augmented_data.csv\")\n",
    "y=dataset[:,1:3]\n",
    "X=dataset[:,3:]\n",
    "X_train,X_test,y_train,y_test=sklearn.model_selection.train_test_split(X,y,random_state=0)\n",
    "print(\"Split dataset to size:\",len(X_train),len(X_test))\n",
    "\n",
    "\n"
   ]
  },
  {
   "cell_type": "code",
   "execution_count": 53,
   "metadata": {},
   "outputs": [
    {
     "name": "stdout",
     "output_type": "stream",
     "text": [
      "logistic regression training accuracy: 62.90%\n",
      "logistic regression testing accuracy: 57.30%\n"
     ]
    }
   ],
   "source": [
    "logistic_regression=sklearn.linear_model.LogisticRegression(max_iter=500)\n",
    "logistic_regression.fit(X_train,y_train[:,1])\n",
    "print(f\"logistic regression training accuracy: {(logistic_regression.score(X_train,y_train[:,1])*100):.2f}%\")\n",
    "print(f\"logistic regression testing accuracy: {(logistic_regression.score(X_test,y_test[:,1])*100):.2f}%\")"
   ]
  },
  {
   "cell_type": "code",
   "execution_count": 54,
   "metadata": {},
   "outputs": [
    {
     "data": {
      "text/plain": [
       "0.07846345796785792"
      ]
     },
     "execution_count": 54,
     "metadata": {},
     "output_type": "execute_result"
    }
   ],
   "source": [
    "linear_regression=sklearn.linear_model.LinearRegression()\n",
    "linear_regression.fit(X_train,y_train)\n",
    "\n",
    "linear_regression.score(X_train,y_train)\n",
    "\n",
    "\n"
   ]
  }
 ],
 "metadata": {
  "kernelspec": {
   "display_name": "base",
   "language": "python",
   "name": "python3"
  },
  "language_info": {
   "codemirror_mode": {
    "name": "ipython",
    "version": 3
   },
   "file_extension": ".py",
   "mimetype": "text/x-python",
   "name": "python",
   "nbconvert_exporter": "python",
   "pygments_lexer": "ipython3",
   "version": "3.8.8"
  },
  "orig_nbformat": 4,
  "vscode": {
   "interpreter": {
    "hash": "9898b4e5353a608fa11a934b698531b44a5bf37c9088dae4d51e47d00838f50a"
   }
  }
 },
 "nbformat": 4,
 "nbformat_minor": 2
}
